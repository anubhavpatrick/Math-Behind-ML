{
  "nbformat": 4,
  "nbformat_minor": 0,
  "metadata": {
    "colab": {
      "name": "Practical Demonstration of the Concept of Probability.ipynb",
      "provenance": [],
      "authorship_tag": "ABX9TyOl2NRLfDb9C8X5Z066APlt",
      "include_colab_link": true
    },
    "kernelspec": {
      "name": "python3",
      "display_name": "Python 3"
    },
    "language_info": {
      "name": "python"
    }
  },
  "cells": [
    {
      "cell_type": "markdown",
      "metadata": {
        "id": "view-in-github",
        "colab_type": "text"
      },
      "source": [
        "<a href=\"https://colab.research.google.com/github/anubhavpatrick/Math-Behind-ML/blob/main/Practical_Demonstration_of_the_Concept_of_Probability.ipynb\" target=\"_parent\"><img src=\"https://colab.research.google.com/assets/colab-badge.svg\" alt=\"Open In Colab\"/></a>"
      ]
    },
    {
      "cell_type": "code",
      "metadata": {
        "id": "uxmvkk6hKmdO"
      },
      "source": [
        "import random\n",
        "HEADS = 1"
      ],
      "execution_count": 1,
      "outputs": []
    },
    {
      "cell_type": "code",
      "metadata": {
        "id": "As3nhwIVKA7y"
      },
      "source": [
        "population_size=[]\n",
        "for i in range(50, 500000,5000):\n",
        "    population_size.append(i)\n",
        "rel_freq = dict()\n",
        "for n in population_size:\n",
        "    frequency_head = 0\n",
        "    for i in range(n):\n",
        "        outcome = random.randint(0,1)#binomial distribution can be used to draw samples\n",
        "        if outcome == HEADS:\n",
        "            frequency_head+=1\n",
        "    rel_freq[n]=frequency_head/n #computing relative freq when population size is n"
      ],
      "execution_count": 2,
      "outputs": []
    },
    {
      "cell_type": "code",
      "metadata": {
        "colab": {
          "base_uri": "https://localhost:8080/"
        },
        "id": "_IqSRt_KLqMW",
        "outputId": "b3c53f3d-8f7d-43a9-e9a3-ed1e5cf61d3f"
      },
      "source": [
        "rel_freq=list(rel_freq.values())\n",
        "print(rel_freq)"
      ],
      "execution_count": 3,
      "outputs": [
        {
          "output_type": "stream",
          "text": [
            "[0.42, 0.4904950495049505, 0.4945273631840796, 0.5050498338870432, 0.4969576059850374, 0.49704590818363276, 0.5028951747088186, 0.49743223965763195, 0.49920099875156054, 0.4992674805771365, 0.5012187812187813, 0.5034514078110809, 0.5002664446294754, 0.49864719446579553, 0.5020271234832263, 0.5010259826782145, 0.4998376014990631, 0.5004938271604938, 0.5001665741254858, 0.4974855339295108, 0.5007296351824088, 0.4985625892432175, 0.49806451612903224, 0.49581051716644936, 0.5015160349854227, 0.5006957217113155, 0.4987081891580161, 0.5044427989633469, 0.5013637986433417, 0.5013236814891416, 0.49962679106964347, 0.49963237665269267, 0.499106529209622, 0.4988367161466222, 0.500788003528374, 0.4984461582405027, 0.5012552068869759, 0.4993947581734666, 0.4984477769008156, 0.5002665983081261, 0.5006248437890527, 0.49794196537429897, 0.4997333968102833, 0.5009439665194141, 0.49945012497159735, 0.5012263941346368, 0.4991784394696805, 0.5004211869814933, 0.5004415746719434, 0.49964905121403796, 0.5014837032593481, 0.4985649872574005, 0.49920015381657373, 0.5006451612903225, 0.4993704869468617, 0.4995346300672605, 0.5003892162113909, 0.4988037186458516, 0.49983106360972246, 0.5004914421284528, 0.5001933011164806, 0.4985313882970005, 0.49986453797774555, 0.4991239485795905, 0.5003686923918138, 0.5001784340870635, 0.49962429934858354, 0.5002686166243844, 0.4996823996471107, 0.5008288653818287, 0.5002485359234395, 0.5004816223067173, 0.499661158172476, 0.49895630735515684, 0.5001134981759222, 0.4991707772297027, 0.49992632548348903, 0.4987430203869627, 0.49913857197795153, 0.4998481204910771, 0.5004474440694913, 0.49934082212072584, 0.5012925253017925, 0.49838332730996265, 0.5011046304011427, 0.4988283731325726, 0.4994675037786304, 0.5011171129755201, 0.4996773093966595, 0.5002359285473542, 0.4988001333185202, 0.5004109438523239, 0.5012172589935876, 0.4996968067949683, 0.4988682055100521, 0.4999179033785917, 0.5011665451515467, 0.4998969178435213, 0.49944291398836854, 0.5005696394303606]\n"
          ],
          "name": "stdout"
        }
      ]
    },
    {
      "cell_type": "code",
      "metadata": {
        "colab": {
          "base_uri": "https://localhost:8080/",
          "height": 279
        },
        "id": "8hNHX8HfMumJ",
        "outputId": "e1b967bb-f2a5-4bd2-e100-ca2c2c3fe1a0"
      },
      "source": [
        "#plotting the values\n",
        "import matplotlib.pyplot as plt\n",
        "fig, ax = plt.subplots()\n",
        "ax.ticklabel_format(useOffset=False, style='plain')\n",
        "ax.plot(population_size,rel_freq)\n",
        "plt.xlabel('Population size')\n",
        "plt.ylabel('Probability')\n",
        "plt.show()"
      ],
      "execution_count": 6,
      "outputs": [
        {
          "output_type": "display_data",
          "data": {
            "image/png": "[encoded data removed]",
            "text/plain": [
              "<Figure size 432x288 with 1 Axes>"
            ]
          },
          "metadata": {
            "tags": [],
            "needs_background": "light"
          }
        }
      ]
    },
    {
      "cell_type": "code",
      "metadata": {
        "id": "31n5pIiXBEUj",
        "outputId": "e2140aab-ed40-46a5-c17b-059f6375fad2",
        "colab": {
          "base_uri": "https://localhost:8080/",
          "height": 334
        }
      },
      "source": [
        "#plotting stem plot\n",
        "fig, ax = plt.subplots()\n",
        "ax.ticklabel_format(useOffset=False, style='plain')\n",
        "\n",
        "#sampling population_size and rel_freq for better stem visualization\n",
        "x=[]\n",
        "y=[]\n",
        "for i in range(0,100,2):\n",
        "    x.append(population_size[i])\n",
        "    y.append(rel_freq[i])\n",
        "\n",
        "ax.stem(x,y)\n",
        "plt.xlabel('Population size')\n",
        "plt.ylabel('Probability')\n",
        "plt.show()"
      ],
      "execution_count": 18,
      "outputs": [
        {
          "output_type": "stream",
          "text": [
            "/usr/local/lib/python3.7/dist-packages/ipykernel_launcher.py:12: UserWarning: In Matplotlib 3.3 individual lines on a stem plot will be added as a LineCollection instead of individual lines. This significantly improves the performance of a stem plot. To remove this warning and switch to the new behaviour, set the \"use_line_collection\" keyword argument to True.\n",
            "  if sys.path[0] == '':\n"
          ],
          "name": "stderr"
        },
        {
          "output_type": "display_data",
          "data": {
            "image/png": "[encoded data removed]",
            "text/plain": [
              "<Figure size 432x288 with 1 Axes>"
            ]
          },
          "metadata": {
            "tags": [],
            "needs_background": "light"
          }
        }
      ]
    },
    {
      "cell_type": "code",
      "metadata": {
        "colab": {
          "base_uri": "https://localhost:8080/"
        },
        "id": "JZjbqlVyNRdZ",
        "outputId": "1504dc19-b581-41dc-a162-336a15e12d77"
      },
      "source": [
        "list(rel_freq.values())"
      ],
      "execution_count": null,
      "outputs": [
        {
          "output_type": "execute_result",
          "data": {
            "text/plain": [
              "[0.56, 0.528, 0.5044, 0.50196, 0.501142, 0.4999062]"
            ]
          },
          "metadata": {
            "tags": []
          },
          "execution_count": 33
        }
      ]
    },
    {
      "cell_type": "code",
      "metadata": {
        "colab": {
          "base_uri": "https://localhost:8080/"
        },
        "id": "6sWWVlXHN0L7",
        "outputId": "53ffdb6d-2ec2-4b28-8ae9-e6d2c7edbbd7"
      },
      "source": [
        "population_size"
      ],
      "execution_count": null,
      "outputs": [
        {
          "output_type": "execute_result",
          "data": {
            "text/plain": [
              "[500, 5000, 50000, 500000, 5000000]"
            ]
          },
          "metadata": {
            "tags": []
          },
          "execution_count": 17
        }
      ]
    },
    {
      "cell_type": "code",
      "metadata": {
        "id": "GiSz9fxrOMoa"
      },
      "source": [
        ""
      ],
      "execution_count": null,
      "outputs": []
    }
  ]
}