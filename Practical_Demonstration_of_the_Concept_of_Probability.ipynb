{
  "nbformat": 4,
  "nbformat_minor": 0,
  "metadata": {
    "colab": {
      "name": "Practical Demonstration of the Concept of Probability.ipynb",
      "provenance": [],
      "authorship_tag": "ABX9TyOdnasFViL6FYgHOs5+aWG3",
      "include_colab_link": true
    },
    "kernelspec": {
      "name": "python3",
      "display_name": "Python 3"
    },
    "language_info": {
      "name": "python"
    }
  },
  "cells": [
    {
      "cell_type": "markdown",
      "metadata": {
        "id": "view-in-github",
        "colab_type": "text"
      },
      "source": [
        "<a href=\"https://colab.research.google.com/github/anubhavpatrick/Math-Behind-ML/blob/main/Practical_Demonstration_of_the_Concept_of_Probability.ipynb\" target=\"_parent\"><img src=\"https://colab.research.google.com/assets/colab-badge.svg\" alt=\"Open In Colab\"/></a>"
      ]
    },
    {
      "cell_type": "code",
      "metadata": {
        "id": "uxmvkk6hKmdO"
      },
      "source": [
        "import random\n",
        "HEADS = 1"
      ],
      "execution_count": 2,
      "outputs": []
    },
    {
      "cell_type": "code",
      "metadata": {
        "id": "As3nhwIVKA7y"
      },
      "source": [
        "population_size=[]\n",
        "for i in range(50, 500000,5000):\n",
        "    population_size.append(i)\n",
        "rel_freq = dict()\n",
        "for n in population_size:\n",
        "    frequency_head = 0\n",
        "    for i in range(n):\n",
        "        outcome = random.randint(0,1)\n",
        "        if outcome == HEADS:\n",
        "            frequency_head+=1\n",
        "    rel_freq[n]=frequency_head/n #computing relative freq when population size is n"
      ],
      "execution_count": 40,
      "outputs": []
    },
    {
      "cell_type": "code",
      "metadata": {
        "colab": {
          "base_uri": "https://localhost:8080/"
        },
        "id": "_IqSRt_KLqMW",
        "outputId": "2797d8b1-749c-44b0-84fe-f7b754c29bdd"
      },
      "source": [
        "rel_freq=list(rel_freq.values())\n",
        "print(rel_freq)"
      ],
      "execution_count": 41,
      "outputs": [
        {
          "output_type": "stream",
          "text": [
            "[0.6, 0.49485148514851485, 0.5024875621890548, 0.5013953488372093, 0.5024438902743142, 0.5015968063872256, 0.5046921797004992, 0.4972895863052782, 0.49887640449438203, 0.49980022197558266, 0.49834165834165833, 0.5000908265213442, 0.5018484596169859, 0.4992313604919293, 0.497615988579586, 0.5002664890073284, 0.49931292941911304, 0.5017166372721928, 0.5002776235424764, 0.49915833771699103, 0.49709145427286355, 0.4985245121370776, 0.49933666515220354, 0.5007388092133855, 0.5003998334027489, 0.49874450219912037, 0.49910034602076125, 0.5003924472417624, 0.4997929310960371, 0.49922785246466733, 0.501072975674775, 0.5018639148661722, 0.5021118400499843, 0.4990972432596183, 0.5030520435166128, 0.5000342759211653, 0.5, 0.5000378276141584, 0.49955274927650617, 0.4999384773135094, 0.5008547863034242, 0.4998634479395269, 0.5005570102356581, 0.5006045105789352, 0.49980004544421724, 0.4988047100644301, 0.5025342316887633, 0.4993490746649649, 0.4996625702978546, 0.4995919200163232, 0.5003199360127975, 0.49846304646147815, 0.5001192078446453, 0.4997321260139596, 0.4992890205517497, 0.4994146518814761, 0.5009569719692912, 0.5004385195579723, 0.4993794173418376, 0.5012133536688697, 0.49981669721713046, 0.49850188493689557, 0.4989388808256733, 0.499425488017775, 0.49878456491173256, 0.49937240424550067, 0.4998575973337373, 0.49923891956424415, 0.5005675635935892, 0.5004781915664397, 0.500079988573061, 0.5005886494859879, 0.5000138869601444, 0.49861662785919736, 0.5003999459532495, 0.5014931342487668, 0.49953690303907383, 0.4997506817296455, 0.5002409947442635, 0.5017213011011264, 0.5003449568803899, 0.5008937168250833, 0.5014120229240336, 0.5008191784122394, 0.4998952505654089, 0.49946829784731206, 0.49945122660155794, 0.5013860475807378, 0.4997841154414271, 0.49979328165374676, 0.5009998889012331, 0.5003384243489727, 0.5005347244864689, 0.5004795183313622, 0.49898095947239657, 0.49999578991685084, 0.5005457764816165, 0.5005339655705597, 0.501038669523518, 0.50004241995758]\n"
          ],
          "name": "stdout"
        }
      ]
    },
    {
      "cell_type": "code",
      "metadata": {
        "colab": {
          "base_uri": "https://localhost:8080/",
          "height": 265
        },
        "id": "8hNHX8HfMumJ",
        "outputId": "25151270-a45b-49d7-ff01-51ad6c9a3b0e"
      },
      "source": [
        "#plotting the values\n",
        "import matplotlib.pyplot as plt\n",
        "fig, ax = plt.subplots()\n",
        "ax.ticklabel_format(useOffset=False, style='plain')\n",
        "ax.plot(population_size,rel_freq)\n",
        "plt.show()"
      ],
      "execution_count": 42,
      "outputs": [
        {
          "output_type": "display_data",
          "data": {
            "image/png": "[encoded data removed]",
            "text/plain": [
              "<Figure size 432x288 with 1 Axes>"
            ]
          },
          "metadata": {
            "tags": [],
            "needs_background": "light"
          }
        }
      ]
    },
    {
      "cell_type": "code",
      "metadata": {
        "colab": {
          "base_uri": "https://localhost:8080/"
        },
        "id": "JZjbqlVyNRdZ",
        "outputId": "1504dc19-b581-41dc-a162-336a15e12d77"
      },
      "source": [
        "list(rel_freq.values())"
      ],
      "execution_count": 33,
      "outputs": [
        {
          "output_type": "execute_result",
          "data": {
            "text/plain": [
              "[0.56, 0.528, 0.5044, 0.50196, 0.501142, 0.4999062]"
            ]
          },
          "metadata": {
            "tags": []
          },
          "execution_count": 33
        }
      ]
    },
    {
      "cell_type": "code",
      "metadata": {
        "colab": {
          "base_uri": "https://localhost:8080/"
        },
        "id": "6sWWVlXHN0L7",
        "outputId": "53ffdb6d-2ec2-4b28-8ae9-e6d2c7edbbd7"
      },
      "source": [
        "population_size"
      ],
      "execution_count": 17,
      "outputs": [
        {
          "output_type": "execute_result",
          "data": {
            "text/plain": [
              "[500, 5000, 50000, 500000, 5000000]"
            ]
          },
          "metadata": {
            "tags": []
          },
          "execution_count": 17
        }
      ]
    },
    {
      "cell_type": "code",
      "metadata": {
        "id": "GiSz9fxrOMoa"
      },
      "source": [
        ""
      ],
      "execution_count": null,
      "outputs": []
    }
  ]
}