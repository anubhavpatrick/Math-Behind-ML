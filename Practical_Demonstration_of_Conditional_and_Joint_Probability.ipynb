{
  "nbformat": 4,
  "nbformat_minor": 0,
  "metadata": {
    "colab": {
      "name": "Practical Demonstration of Conditional and Joint Probability.ipynb",
      "provenance": [],
      "authorship_tag": "ABX9TyNkqEnpM2ii/A6qMO74+G2u",
      "include_colab_link": true
    },
    "kernelspec": {
      "name": "python3",
      "display_name": "Python 3"
    },
    "language_info": {
      "name": "python"
    }
  },
  "cells": [
    {
      "cell_type": "markdown",
      "metadata": {
        "id": "view-in-github",
        "colab_type": "text"
      },
      "source": [
        "<a href=\"https://colab.research.google.com/github/anubhavpatrick/Math-Behind-ML/blob/main/Practical_Demonstration_of_Conditional_and_Joint_Probability.ipynb\" target=\"_parent\"><img src=\"https://colab.research.google.com/assets/colab-badge.svg\" alt=\"Open In Colab\"/></a>"
      ]
    },
    {
      "cell_type": "code",
      "metadata": {
        "id": "To0arfWmMSK8"
      },
      "source": [
        "import numpy as np"
      ],
      "execution_count": 1,
      "outputs": []
    },
    {
      "cell_type": "code",
      "metadata": {
        "id": "sMnu8GayMgTl"
      },
      "source": [
        "#Sampling random marks of 1000 students in 6 subjects\n",
        "marks_of_students = np.random.randint(low=1, high=101, size=(1000,6))"
      ],
      "execution_count": 2,
      "outputs": []
    },
    {
      "cell_type": "code",
      "metadata": {
        "colab": {
          "base_uri": "https://localhost:8080/"
        },
        "id": "PrwBJ2kzM8Vf",
        "outputId": "a231b5c3-067f-4775-b3c2-f6d46104075a"
      },
      "source": [
        "marks_of_students"
      ],
      "execution_count": 3,
      "outputs": [
        {
          "output_type": "execute_result",
          "data": {
            "text/plain": [
              "array([[72, 99,  2, 81, 98, 35],\n",
              "       [45, 75, 34,  9, 62, 90],\n",
              "       [ 9, 89, 57, 33,  1, 14],\n",
              "       ...,\n",
              "       [92, 49, 81, 66, 87, 45],\n",
              "       [10, 24, 74, 44, 43, 70],\n",
              "       [70, 15, 31, 58, 33, 86]])"
            ]
          },
          "metadata": {
            "tags": []
          },
          "execution_count": 3
        }
      ]
    },
    {
      "cell_type": "code",
      "metadata": {
        "id": "ZAMAUWhGM9th"
      },
      "source": [
        ""
      ],
      "execution_count": null,
      "outputs": []
    }
  ]
}